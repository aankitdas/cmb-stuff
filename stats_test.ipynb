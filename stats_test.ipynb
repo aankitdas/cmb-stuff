{
 "cells": [
  {
   "cell_type": "code",
   "execution_count": 1,
   "id": "f3ee2a98",
   "metadata": {},
   "outputs": [],
   "source": [
    "from scipy.stats import ttest_ind\n",
    "from scipy.stats import ks_2samp\n",
    "from scipy.stats import mannwhitneyu\n"
   ]
  },
  {
   "cell_type": "code",
   "execution_count": null,
   "id": "577eea6e",
   "metadata": {},
   "outputs": [],
   "source": [
    "loss_base = [2.9e3, 2.9e3, 2.9e3, 2.9e3, 3e3, 2.9e3, 3e3, 3e3, 3e3, 2.9e3]"
   ]
  },
  {
   "cell_type": "markdown",
   "id": "d36821e9",
   "metadata": {},
   "source": [
    "## Baseline + AM"
   ]
  },
  {
   "cell_type": "code",
   "execution_count": 3,
   "id": "0e887e88",
   "metadata": {},
   "outputs": [
    {
     "name": "stdout",
     "output_type": "stream",
     "text": [
      "t-stat: 2.4\n",
      "p-value: 0.03068171246721154\n",
      "KS Statistic: 0.4\n",
      "KS Test p-value: 0.41752365281777043\n",
      "Mann-Whitney U Statistic: 76.0\n",
      "Mann-Whitney U Test p-value: 0.0360909952042232\n"
     ]
    }
   ],
   "source": [
    "loss_am = [3e3, 3e3, 3e3, 2.9e3, 3.1e3, 3.2e3, 3e3, 3.1e3, 2.9e3, 3e3]\n",
    "t_stat, p_val = ttest_ind(loss_am, loss_base, equal_var=False)\n",
    "print(\"t-stat:\", t_stat)\n",
    "print(\"p-value:\", p_val)\n",
    "\n",
    "ks_stat, ks_pvalue = ks_2samp(loss_am, loss_base)\n",
    "print(f\"KS Statistic: {ks_stat}\")\n",
    "print(f\"KS Test p-value: {ks_pvalue}\")\n",
    "\n",
    "u_stat, mw_pvalue = mannwhitneyu(loss_am, loss_base, alternative='two-sided')\n",
    "print(f\"Mann-Whitney U Statistic: {u_stat}\")\n",
    "print(f\"Mann-Whitney U Test p-value: {mw_pvalue}\")"
   ]
  },
  {
   "cell_type": "markdown",
   "id": "68ced708",
   "metadata": {},
   "source": [
    "## Baseline + AA"
   ]
  },
  {
   "cell_type": "code",
   "execution_count": 9,
   "id": "a90e208e",
   "metadata": {},
   "outputs": [
    {
     "name": "stdout",
     "output_type": "stream",
     "text": [
      "t-stat: 0.7276068751089989\n",
      "p-value: 0.4770122828436911\n",
      "KS Statistic: 0.1\n",
      "KS Test p-value: 1.0\n",
      "Mann-Whitney U Statistic: 57.0\n",
      "Mann-Whitney U Test p-value: 0.5758676588974205\n"
     ]
    }
   ],
   "source": [
    "loss_aa = [3.1e3, 3e3, 2.9e3, 2.9e3, 2.9e3, 3e3, 3e3, 2.9e3, 3e3, 2.9e3]\n",
    "t_stat, p_val = ttest_ind(loss_aa, loss_base, equal_var=False)\n",
    "print(\"t-stat:\", t_stat)\n",
    "print(\"p-value:\", p_val)\n",
    "\n",
    "ks_stat, ks_pvalue = ks_2samp(loss_aa, loss_base)\n",
    "print(f\"KS Statistic: {ks_stat}\")\n",
    "print(f\"KS Test p-value: {ks_pvalue}\")\n",
    "\n",
    "u_stat, mw_pvalue = mannwhitneyu(loss_aa, loss_base, alternative='two-sided')\n",
    "print(f\"Mann-Whitney U Statistic: {u_stat}\")\n",
    "print(f\"Mann-Whitney U Test p-value: {mw_pvalue}\")"
   ]
  },
  {
   "cell_type": "markdown",
   "id": "0e14a823",
   "metadata": {},
   "source": [
    "## Baseline ++ MM"
   ]
  },
  {
   "cell_type": "code",
   "execution_count": 4,
   "id": "7a1fff75",
   "metadata": {},
   "outputs": [
    {
     "name": "stdout",
     "output_type": "stream",
     "text": [
      "t-stat: 1.3416407864998738\n",
      "p-value: 0.19646751603492402\n",
      "KS Statistic: 0.3\n",
      "KS Test p-value: 0.7869297884777761\n",
      "Mann-Whitney U Statistic: 65.0\n",
      "Mann-Whitney U Test p-value: 0.20392477458611868\n"
     ]
    }
   ],
   "source": [
    "loss_mm = [3e3, 2.9e3, 2.9e3, 3e3, 3e3, 3e3, 3e3, 3e3, 3e3, 2.9e3]\n",
    "t_stat, p_val = ttest_ind(loss_mm, loss_base, equal_var=False)\n",
    "print(\"t-stat:\", t_stat)\n",
    "print(\"p-value:\", p_val)\n",
    "\n",
    "ks_stat, ks_pvalue = ks_2samp(loss_mm, loss_base)\n",
    "print(f\"KS Statistic: {ks_stat}\")\n",
    "print(f\"KS Test p-value: {ks_pvalue}\")\n",
    "\n",
    "u_stat, mw_pvalue = mannwhitneyu(loss_mm, loss_base, alternative='two-sided')\n",
    "print(f\"Mann-Whitney U Statistic: {u_stat}\")\n",
    "print(f\"Mann-Whitney U Test p-value: {mw_pvalue}\")"
   ]
  },
  {
   "cell_type": "markdown",
   "id": "049bed88",
   "metadata": {},
   "source": [
    "## One way ANOVA test"
   ]
  },
  {
   "cell_type": "code",
   "execution_count": 10,
   "id": "10fa47aa",
   "metadata": {},
   "outputs": [
    {
     "name": "stdout",
     "output_type": "stream",
     "text": [
      "F-statistic: 2.284974093264249\n",
      "p-value: 0.09536087409973508\n",
      "ANOVA test result: Not significant\n"
     ]
    }
   ],
   "source": [
    "from scipy.stats import f_oneway\n",
    "\n",
    "f_stat, p_val = f_oneway(loss_aa, loss_am, loss_base, loss_mm)\n",
    "print(\"F-statistic:\", f_stat)\n",
    "print(\"p-value:\", p_val)\n",
    "print(\"ANOVA test result:\", \"Significant\" if p_val < 0.05 else \"Not significant\")"
   ]
  },
  {
   "cell_type": "markdown",
   "id": "1cc11532",
   "metadata": {},
   "source": [
    "## Post-hoc Test"
   ]
  },
  {
   "cell_type": "code",
   "execution_count": 11,
   "id": "7e8d678d",
   "metadata": {},
   "outputs": [
    {
     "name": "stdout",
     "output_type": "stream",
     "text": [
      "   Multiple Comparison of Means - Tukey HSD, FWER=0.05   \n",
      "=========================================================\n",
      " group1  group2 meandiff p-adj    lower    upper   reject\n",
      "---------------------------------------------------------\n",
      "Avg-Avg Avg-Max     60.0 0.2752  -28.1892 148.1892  False\n",
      "Avg-Avg Max-Avg    -20.0  0.928 -108.1892  68.1892  False\n",
      "Avg-Avg Max-Max     30.0 0.7964  -58.1892 118.1892  False\n",
      "Avg-Max Max-Avg    -80.0 0.0869 -168.1892   8.1892  False\n",
      "Avg-Max Max-Max    -30.0 0.7964 -118.1892  58.1892  False\n",
      "Max-Avg Max-Max     50.0 0.4324  -38.1892 138.1892  False\n",
      "---------------------------------------------------------\n"
     ]
    }
   ],
   "source": [
    "from statsmodels.stats.multicomp import pairwise_tukeyhsd\n",
    "import pandas as pd\n",
    "\n",
    "# Flatten the data\n",
    "all_losses = (\n",
    "    loss_aa + loss_am + loss_base + loss_mm\n",
    ")\n",
    "groups = (\n",
    "    ['Avg-Avg'] * 10 + ['Avg-Max'] * 10 + ['Max-Avg'] * 10 + ['Max-Max'] * 10\n",
    ")\n",
    "\n",
    "# Create DataFrame\n",
    "df = pd.DataFrame({'Loss': all_losses, 'Group': groups})\n",
    "\n",
    "# Tukey HSD\n",
    "tukey = pairwise_tukeyhsd(df['Loss'], df['Group'], alpha=0.05)\n",
    "print(tukey)\n"
   ]
  },
  {
   "cell_type": "code",
   "execution_count": null,
   "id": "6a556de5",
   "metadata": {},
   "outputs": [],
   "source": []
  }
 ],
 "metadata": {
  "kernelspec": {
   "display_name": "cmb-ml-py-312",
   "language": "python",
   "name": "python3"
  },
  "language_info": {
   "codemirror_mode": {
    "name": "ipython",
    "version": 3
   },
   "file_extension": ".py",
   "mimetype": "text/x-python",
   "name": "python",
   "nbconvert_exporter": "python",
   "pygments_lexer": "ipython3",
   "version": "3.12.11"
  }
 },
 "nbformat": 4,
 "nbformat_minor": 5
}
